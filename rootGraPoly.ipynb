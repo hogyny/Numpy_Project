%matplotlib inline
import numpy as np
import matplotlib.pyplot as plt
default_figsize=(8, 8)
def taskB(y):
    x = np.linspace(-4, 4)
    
    plt.axhline(y=0, color='k')
    plt.axvline(x=0, color='k')
    
    c= np.roots(y)
    print(c)
    print('\n\n')
    y = np.polyval(y, x)
    plt.plot(x,y,'g')
    plt.xlabel('x range')
    plt.ylabel('test_vec')
    plt.margins(0.10)
    y = plt.show()
    return y

#main
test_vec =  np.array([-1, 1, 0, 4, -3, -6, 7, 9, 1, 4, -9, -5])
taskB(test_vec)
