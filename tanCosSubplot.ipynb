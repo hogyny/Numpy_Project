%matplotlib inline
import numpy as np
import matplotlib.pyplot as plt
default_figsize=(8, 8)
def introduction_plot_sinus():
    #sine wave, cosine wave arctan.
    x = np.linspace(-2*np.pi,2*np.pi)
    
    
    y = np.sin(x)
    y1 = np.cos(x)
    y2 = np.arctan(x)
    
    fig, numplot  = plt.subplots(3 , constrained_layout = True)
    fig.suptitle('sin x, cos x , arctan x')
    numplot[0].plot(x,y,'b')
    numplot[0].set_title('sin x')
    numplot[0].axhline(y=0, color='k') #y co-ordinate
    numplot[0].axvline(x=0, color='k') #x  co -ordinate
    print('\n\n')
    
    
    numplot[1].plot(x,y1,'r')
    numplot[1].set_title('cos x')
    numplot[1].axhline(y=0, color='k') #y co-ordinate
    numplot[1].axvline(x=0, color='k') #x  co -ordinate
    
    numplot[2].plot(x,y2,'g')
    numplot[2].set_title('arctan x')
    numplot[2].axhline(y=0, color='k') #y co-ordinate
    numplot[2].axvline(x=0, color='k') #x  co -ordinate
    
    plt.margins(0.10)
    return
    
introduction_plot_sinus()
