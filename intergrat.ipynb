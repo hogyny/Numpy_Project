import sympy as sy
def introduction_symbolic():
    #declare t variable
    #calculate and display indefinite integral
    #calculate and display definite integral
    t = sy.Symbol('t',)
    ans = sy.integrate(t**2, t)
    ans2 = sy.integrate(t**2, (t, -1, 1))
    print('t^2 dt =')
    display(ans)
    print('\n')
    print('t^2 dt with limit -1 to 1 =')
    display(ans2)
    return

introduction_symbolic()
