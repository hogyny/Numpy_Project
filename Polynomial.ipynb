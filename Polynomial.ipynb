%matplotlib inline
import numpy as np
import matplotlib.pyplot as plt
default_figsize=(8, 8)
def introduction_plot_polynomial():
    #perform operations on polynomials
    #print polynomials
    #draw a graps
    x = np.linspace(-1, 1)
    ax = np.poly1d([0, 1, 1, -1, -1, -1])
    bx = np.poly1d([0, 0, 1, 0, -1, 1])
    cx = np.poly1d([1, -1, 1, 0, 0, -1])
    
    #calculate
    dx = np.polymul(ax, bx)
    print( dx)
    ex = np.polyder(dx,1)
    print(ex)
    fx = np.polyadd(ex, bx) - np.poly1d([1, 0, 0 , 0])
    print(fx)
    y = np.polyval(fx, x)
    plt.plot(x,y,'g')
    plt.xlabel('x')
    plt.ylabel('f(x) = e(x)+b(x)−x^3')
    plt.axhline(y=0, color='k') #y co-ordinate
    plt.axvline(x=0, color='k') #x co - ordinate
    plt.margins(0.10)
    plt.show
    
    
    
    return

introduction_plot_polynomial()
