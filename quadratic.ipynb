%matplotlib inline
import numpy as np
import matplotlib.pyplot as plt
default_figsize=(8, 8)
def taskC(polynom, xrange, num_points):
    x = np.linspace(xrange[0], xrange[1], num_points)
    
    plt.axhline(y=0, color='k') 
    plt.axvline(x=0, color='k') 
    
    y = np.polyval(polynom, x)
    plt.plot(x,y,'g')
    plt.xlabel('x')
    plt.ylabel('xrange')
    plt.margins(0.10)
    plt.show
    return

#main
test_poly = np.poly1d([1, 2, -5])
taskC(test_poly, [-6, 4], 400)
