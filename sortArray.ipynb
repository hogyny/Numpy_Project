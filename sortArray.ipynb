import numpy as np
def taskA(y):
    y= np.sort(y)
    
    return y

#main()
test_vec =  np.array([-1, 1, 0, 4, -3, -6, 7, 9, 1, 4, -9, -5])
taskA(test_vec)
