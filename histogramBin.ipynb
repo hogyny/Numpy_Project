%matplotlib inline
import numpy as np
import matplotlib.pyplot as plt
default_figsize=(8, 8)
def introduction_plot_histogram():
    #generate veectors
    #plot historgams
    bins = 50
    x = np.random.randn(100000)
    plt.hist(x, bins)
    plt.show()
    return    
    
introduction_plot_histogram()
