%matplotlib inline
import numpy as np
import matplotlib.pyplot as plt
default_figsize=(8, 8)
def introduction_plot_sinus():
    #draw diagram    
    #add description to the axis and the title of the chart
    #apply 10% margins
    x = np.linspace(-np.pi,np.pi,200)
    y = np.sin(x + np.pi/4)
    plt.plot(x,y,'g')
    plt.xlabel('x')
    plt.ylabel('sin(x) against')
    plt.margins(0.10)
    plt.show
    return
    
introduction_plot_sinus()
